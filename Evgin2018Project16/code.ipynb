{
 "cells": [
  {
   "cell_type": "markdown",
   "metadata": {},
   "source": [
    "# Rosenbock problem"
   ]
  },
  {
   "cell_type": "code",
   "execution_count": 1,
   "metadata": {},
   "outputs": [],
   "source": [
    "import numpy as np\n",
    "import tensorflow as tf\n",
    "import math\n",
    "\n",
    "def rosenbrock(x, y, a, b):\n",
    "    return (a - x)**2 + b*(y - x**2)**2"
   ]
  },
  {
   "cell_type": "code",
   "execution_count": 2,
   "metadata": {},
   "outputs": [],
   "source": [
    "data_points = np.array([[x, y, rosenbrock(x, y, 2.5, 2.5)]\n",
    "                       for x in np.arange(-2, 2.1, 2) \n",
    "                       for y in np.arange(-2, 2.1, 2)])\n",
    "m = data_points.shape[0]"
   ]
  },
  {
   "cell_type": "code",
   "execution_count": 7,
   "metadata": {},
   "outputs": [],
   "source": [
    "x = tf.placeholder(tf.float64, shape=[m, 2])\n",
    "y = tf.placeholder(tf.float64, shape=[m])\n",
    "p = tf.Variable([5., 5.], dtype=tf.float64)\n",
    "y_hat = rosenbrock(x[:, 0], x[:, 1], p[0], p[1])\n",
    "r = y - y_hat\n",
    "loss = tf.reduce_mean(r**2)"
   ]
  },
  {
   "cell_type": "markdown",
   "metadata": {},
   "source": [
    "Test guess"
   ]
  },
  {
   "cell_type": "code",
   "execution_count": 8,
   "metadata": {},
   "outputs": [
    {
     "name": "stdout",
     "output_type": "stream",
     "text": [
      "3868.2291666666665\n"
     ]
    }
   ],
   "source": [
    "feed_dict = {x: data_points[:,0:2], y: data_points[:,2]}\n",
    "session = tf.Session()\n",
    "session.run(tf.global_variables_initializer())\n",
    "current_loss = session.run(loss, feed_dict)\n",
    "print(current_loss)"
   ]
  },
  {
   "cell_type": "code",
   "execution_count": 9,
   "metadata": {},
   "outputs": [],
   "source": [
    "def train(target_loss, max_steps, loss_tensor, train_step_op, inputs):\n",
    "    step = 0\n",
    "    current_loss = session.run(loss_tensor, inputs)\n",
    "    while current_loss > target_loss and step < max_steps:\n",
    "        step += 1\n",
    "        if math.log(step, 2).is_integer():\n",
    "            print(f'step: {step}, current loss: {current_loss}')\n",
    "        session.run(train_step_op, inputs)\n",
    "        current_loss = session.run(loss_tensor, inputs)\n",
    "    print(f'ENDED ON STEP: {step}, FINAL LOSS: {current_loss}')"
   ]
  },
  {
   "cell_type": "markdown",
   "metadata": {},
   "source": [
    "SGD"
   ]
  },
  {
   "cell_type": "code",
   "execution_count": 10,
   "metadata": {},
   "outputs": [
    {
     "name": "stdout",
     "output_type": "stream",
     "text": [
      "step: 1, current loss: 3868.2291666666665\n",
      "step: 2, current loss: 1381.5379689135807\n",
      "step: 4, current loss: 224.7373049641391\n",
      "step: 8, current loss: 39.36606191164495\n",
      "step: 16, current loss: 21.251396378934388\n",
      "step: 32, current loss: 8.262024313710544\n",
      "step: 64, current loss: 1.5494658076417605\n",
      "step: 128, current loss: 0.07505392682364925\n",
      "step: 256, current loss: 0.00022995372615102207\n",
      "step: 512, current loss: 2.3476189945407435e-09\n",
      "ENDED ON STEP: 582, FINAL LOSS: 9.698531013308539e-11\n",
      "PARAMETERS: [2.50000205 2.49999959]\n"
     ]
    }
   ],
   "source": [
    "grad = tf.gradients(loss, p)[0]\n",
    "learning_rate = 0.0005\n",
    "opt = tf.train.GradientDescentOptimizer(learning_rate=1)\n",
    "sgd = opt.apply_gradients([(learning_rate*grad, p)])\n",
    "session.run(tf.global_variables_initializer())\n",
    "train(1e-10, 40000, loss, sgd, feed_dict)\n",
    "print('PARAMETERS:', session.run(p))"
   ]
  },
  {
   "cell_type": "markdown",
   "metadata": {},
   "source": [
    "Adam"
   ]
  },
  {
   "cell_type": "code",
   "execution_count": 11,
   "metadata": {},
   "outputs": [
    {
     "name": "stdout",
     "output_type": "stream",
     "text": [
      "step: 1, current loss: 3868.2291666666665\n",
      "step: 2, current loss: 34205.72916492337\n",
      "step: 4, current loss: 30529.109726416245\n",
      "step: 8, current loss: 6066.123962286118\n",
      "step: 16, current loss: 30745.555871420638\n",
      "step: 32, current loss: 489.359011928145\n",
      "step: 64, current loss: 114.83695692773432\n",
      "step: 128, current loss: 0.1833651319270783\n",
      "step: 256, current loss: 4.580126253823154e-07\n",
      "ENDED ON STEP: 317, FINAL LOSS: 2.424142717541396e-12\n",
      "PARAMETERS: [2.49999969 2.50000008]\n"
     ]
    }
   ],
   "source": [
    "adm = tf.train.AdamOptimizer(15).minimize(loss)\n",
    "session.run(tf.global_variables_initializer())\n",
    "train(1e-10, 40000, loss, adm, feed_dict)\n",
    "print('PARAMETERS:', session.run(p))"
   ]
  },
  {
   "cell_type": "markdown",
   "metadata": {},
   "source": [
    "Newton's method"
   ]
  },
  {
   "cell_type": "code",
   "execution_count": 12,
   "metadata": {},
   "outputs": [
    {
     "name": "stdout",
     "output_type": "stream",
     "text": [
      "step: 1, current loss: 3868.2291666666665\n",
      "step: 2, current loss: 105.04357496954214\n",
      "step: 4, current loss: 0.3307135454853347\n",
      "ENDED ON STEP: 6, FINAL LOSS: 5.882202372519996e-20\n",
      "PARAMETERS: [2.5 2.5]\n"
     ]
    }
   ],
   "source": [
    "hess = tf.hessians(loss, p)[0]\n",
    "grad_col = tf.expand_dims(grad, -1)\n",
    "dp = tf.matmul(tf.linalg.inv(hess), grad_col)\n",
    "dp = tf.squeeze(dp)\n",
    "newton = opt.apply_gradients([(dp, p)])\n",
    "session.run(tf.global_variables_initializer())\n",
    "train(1e-10, 40000, loss, newton, feed_dict)\n",
    "print('PARAMETERS:', session.run(p))"
   ]
  },
  {
   "cell_type": "code",
   "execution_count": null,
   "metadata": {},
   "outputs": [],
   "source": []
  }
 ],
 "metadata": {
  "kernelspec": {
   "display_name": "Python 3",
   "language": "python",
   "name": "python3"
  },
  "language_info": {
   "codemirror_mode": {
    "name": "ipython",
    "version": 3
   },
   "file_extension": ".py",
   "mimetype": "text/x-python",
   "name": "python",
   "nbconvert_exporter": "python",
   "pygments_lexer": "ipython3",
   "version": "3.6.5"
  }
 },
 "nbformat": 4,
 "nbformat_minor": 2
}
